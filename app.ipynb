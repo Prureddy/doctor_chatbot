{
 "cells": [
  {
   "cell_type": "code",
   "execution_count": 1,
   "metadata": {},
   "outputs": [],
   "source": [
    "import csv\n",
    "\n",
    "# Open the input CSV file\n",
    "with open('healthcare_dataset-synthetic_data_updated.csv', 'r') as input_file:\n",
    "    # Create a CSV reader object\n",
    "    reader = csv.reader(input_file)\n",
    "    \n",
    "    # Open the output CSV file\n",
    "    with open('output.csv', 'w', newline='') as output_file:\n",
    "        # Create a CSV writer object\n",
    "        writer = csv.writer(output_file)\n",
    "        \n",
    "        # Iterate over the first 50 rows and write them to the output file\n",
    "        for i in range(50):\n",
    "            row = next(reader)\n",
    "            writer.writerow(row)"
   ]
  },
  {
   "cell_type": "code",
   "execution_count": 2,
   "metadata": {},
   "outputs": [
    {
     "name": "stderr",
     "output_type": "stream",
     "text": [
      "C:\\Users\\pruth\\AppData\\Local\\Temp\\ipykernel_10876\\1668186957.py:8: FutureWarning: Setting an item of incompatible dtype is deprecated and will raise an error in a future version of pandas. Value 'user1' has dtype incompatible with float64, please explicitly cast to a compatible dtype first.\n",
      "  df.at[i-1, 'user_id'] = f'user{i}'\n",
      "C:\\Users\\pruth\\AppData\\Local\\Temp\\ipykernel_10876\\1668186957.py:9: FutureWarning: Setting an item of incompatible dtype is deprecated and will raise an error in a future version of pandas. Value 'password1' has dtype incompatible with float64, please explicitly cast to a compatible dtype first.\n",
      "  df.at[i-1, 'password'] = f'password{i}'\n"
     ]
    }
   ],
   "source": [
    "import pandas as pd\n",
    "\n",
    "# Load the dataset\n",
    "df = pd.read_csv('output.csv')\n",
    "\n",
    "# Fill the last two columns for the first 50 rows\n",
    "for i in range(1, 51):\n",
    "    df.at[i-1, 'user_id'] = f'user{i}'\n",
    "    df.at[i-1, 'password'] = f'password{i}'\n",
    "\n",
    "# Save the updated DataFrame to a new CSV file\n",
    "df.to_csv('output.csv', index=False)"
   ]
  },
  {
   "cell_type": "code",
   "execution_count": 1,
   "metadata": {},
   "outputs": [
    {
     "name": "stdout",
     "output_type": "stream",
     "text": [
      "CSV file 'health_data.csv' created successfully.\n"
     ]
    }
   ],
   "source": [
    "import csv\n",
    "import random\n",
    "\n",
    "# Define the ranges for each parameter\n",
    "bp_upper_range = (100, 200)\n",
    "bp_lower_range = (60, 100)\n",
    "sugar_before_range = (70, 120)\n",
    "sugar_after_range = (100, 200)\n",
    "heart_rate_range = (60, 100)\n",
    "\n",
    "# Generate the data for 50 users\n",
    "data = []\n",
    "for _ in range(50):\n",
    "    bp_upper = random.randint(bp_upper_range[0], bp_upper_range[1])\n",
    "    bp_lower = random.randint(bp_lower_range[0], bp_lower_range[1])\n",
    "    sugar_before = random.randint(sugar_before_range[0], sugar_before_range[1])\n",
    "    sugar_after = random.randint(sugar_after_range[0], sugar_after_range[1])\n",
    "    heart_rate = random.randint(heart_rate_range[0], heart_rate_range[1])\n",
    "    \n",
    "    row = [bp_upper, bp_lower, sugar_before, sugar_after, heart_rate]\n",
    "    data.append(row)\n",
    "\n",
    "# Save the data to a CSV file\n",
    "with open('health_data.csv', 'w', newline='') as csvfile:\n",
    "    writer = csv.writer(csvfile)\n",
    "    writer.writerow(['BP Upper Limit', 'BP Lower Limit', 'Sugar Level Before Food', 'Sugar Level After Food', 'Heart Rate'])\n",
    "    writer.writerows(data)\n",
    "\n",
    "print(\"CSV file 'health_data.csv' created successfully.\")"
   ]
  }
 ],
 "metadata": {
  "kernelspec": {
   "display_name": "venv",
   "language": "python",
   "name": "python3"
  },
  "language_info": {
   "codemirror_mode": {
    "name": "ipython",
    "version": 3
   },
   "file_extension": ".py",
   "mimetype": "text/x-python",
   "name": "python",
   "nbconvert_exporter": "python",
   "pygments_lexer": "ipython3",
   "version": "3.11.9"
  }
 },
 "nbformat": 4,
 "nbformat_minor": 2
}
